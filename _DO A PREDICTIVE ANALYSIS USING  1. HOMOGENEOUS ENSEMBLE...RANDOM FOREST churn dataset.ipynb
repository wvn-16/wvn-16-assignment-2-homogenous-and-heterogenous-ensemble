{
 "cells": [
  {
   "cell_type": "code",
   "execution_count": 6,
   "id": "d920b8d9",
   "metadata": {},
   "outputs": [
    {
     "name": "stdout",
     "output_type": "stream",
     "text": [
      "Accuracy: 0.8625\n",
      "Precision: 0.75\n",
      "Recall: 0.45038167938931295\n",
      "F1 Score: 0.5627980922098569\n"
     ]
    }
   ],
   "source": [
    "import pandas as pd\n",
    "from sklearn.ensemble import RandomForestClassifier\n",
    "from sklearn.metrics import accuracy_score, precision_score, recall_score, f1_score\n",
    "from sklearn.model_selection import train_test_split\n",
    "\n",
    "# Load the Churn_Modelling dataset\n",
    "df = pd.read_csv('C:\\\\Users\\\\user\\\\Downloads\\\\Churn_Modelling (1).csv')\n",
    "\n",
    "# Preprocessing\n",
    "X = df.iloc[:, 3:13]\n",
    "X = pd.get_dummies(X, columns=[\"Geography\", \"Gender\"], drop_first=True)\n",
    "y = df.iloc[:, 13]\n",
    "\n",
    "# Split data into training and test sets\n",
    "X_train, X_test, y_train, y_test = train_test_split(X, y, test_size=0.2, random_state=42)\n",
    "\n",
    "# Instantiate a random forest classifier using the desired hyperparameters\n",
    "rf = RandomForestClassifier(n_estimators=100, max_depth=10)\n",
    "\n",
    "# Fit the classifier to the training data\n",
    "rf.fit(X_train, y_train)\n",
    "\n",
    "# Use the trained classifier to make predictions on the test data\n",
    "y_pred = rf.predict(X_test)\n",
    "\n",
    "# Evaluate the performance of the classifier using appropriate metrics\n",
    "accuracy = accuracy_score(y_test, y_pred)\n",
    "precision = precision_score(y_test, y_pred)\n",
    "recall = recall_score(y_test, y_pred)\n",
    "f1 = f1_score(y_test, y_pred)\n",
    "\n",
    "print(f\"Accuracy: {accuracy}\")\n",
    "print(f\"Precision: {precision}\")\n",
    "print(f\"Recall: {recall}\")\n",
    "print(f\"F1 Score: {f1}\")\n",
    "\n",
    "# This code performs the following steps:\n",
    "\n",
    "# Load the \"Churn_Modelling.csv\" dataset using pandas.\n",
    "# Preprocess the data by selecting the relevant features and one-hot encoding categorical features.\n",
    "# Split the preprocessed data into training and test sets.\n",
    "# Instantiate a random forest classifier with 100 trees and a maximum depth of 10.\n",
    "# Train the classifier on the training data.\n",
    "# Use the trained classifier to make predictions on the test data.\n",
    "# Evaluate the performance of the classifier using accuracy, precision, recall, and F1 score.\n"
   ]
  },
  {
   "cell_type": "code",
   "execution_count": 4,
   "id": "1d99b3c1",
   "metadata": {},
   "outputs": [
    {
     "data": {
      "image/png": "[encoded data removed]",
      "text/plain": [
       "<Figure size 432x288 with 1 Axes>"
      ]
     },
     "metadata": {
      "needs_background": "light"
     },
     "output_type": "display_data"
    }
   ],
   "source": [
    "import pandas as pd\n",
    "import numpy as np\n",
    "from sklearn.model_selection import train_test_split\n",
    "from sklearn.ensemble import RandomForestClassifier\n",
    "import matplotlib.pyplot as plt\n",
    "\n",
    "# Read in the dataset\n",
    "df = pd.read_csv(r\"C:\\Users\\user\\Downloads\\Churn_Modelling (1).csv\")\n",
    "\n",
    "# Preprocess the data\n",
    "X = df.iloc[:, 3:13]\n",
    "y = df.iloc[:, 13]\n",
    "X = pd.get_dummies(X, drop_first=True)\n",
    "X_train, X_test, y_train, y_test = train_test_split(X, y, test_size=0.2, random_state=42)\n",
    "\n",
    "# Train a homogeneous ensemble using Random Forest\n",
    "n_estimators = 10\n",
    "max_features = 'sqrt'\n",
    "rf_clf = RandomForestClassifier(n_estimators=n_estimators, max_features=max_features)\n",
    "rf_clf.fit(X_train, y_train)\n",
    "\n",
    "# Make predictions using the trained homogeneous ensemble\n",
    "y_pred = rf_clf.predict(X_test)\n",
    "\n",
    "# Create a scatter plot to compare the actual values with the predicted values\n",
    "plt.scatter(y_test, y_pred)\n",
    "plt.xlabel(\"Actual Values\")\n",
    "plt.ylabel(\"Predicted Values\")\n",
    "plt.show()\n"
   ]
  },
  {
   "cell_type": "code",
   "execution_count": null,
   "id": "6fcc24f1",
   "metadata": {},
   "outputs": [],
   "source": [
    "# above is a complete code that reads in the dataset, preprocesses it, trains a homogeneous ensemble using Random Forest, makes predictions on the test set, and visualizes the results using a scatter plot\n"
   ]
  },
  {
   "cell_type": "code",
   "execution_count": null,
   "id": "0f3eeed6",
   "metadata": {},
   "outputs": [],
   "source": []
  }
 ],
 "metadata": {
  "kernelspec": {
   "display_name": "Python 3 (ipykernel)",
   "language": "python",
   "name": "python3"
  },
  "language_info": {
   "codemirror_mode": {
    "name": "ipython",
    "version": 3
   },
   "file_extension": ".py",
   "mimetype": "text/x-python",
   "name": "python",
   "nbconvert_exporter": "python",
   "pygments_lexer": "ipython3",
   "version": "3.9.12"
  }
 },
 "nbformat": 4,
 "nbformat_minor": 5
}
