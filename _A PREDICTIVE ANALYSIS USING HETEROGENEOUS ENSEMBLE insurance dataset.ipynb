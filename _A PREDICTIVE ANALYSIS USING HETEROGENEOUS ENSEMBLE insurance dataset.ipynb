{
 "cells": [
  {
   "cell_type": "code",
   "execution_count": 7,
   "id": "f8055047",
   "metadata": {},
   "outputs": [
    {
     "name": "stdout",
     "output_type": "stream",
     "text": [
      "Mean Squared Error: 23316787.320661567\n",
      "R^2 Score: 0.849810126648944\n"
     ]
    }
   ],
   "source": [
    "from sklearn.ensemble import RandomForestRegressor\n",
    "from sklearn.ensemble import VotingRegressor\n",
    "from sklearn.linear_model import LinearRegression\n",
    "from sklearn.tree import DecisionTreeRegressor\n",
    "from sklearn.metrics import mean_squared_error, r2_score\n",
    "from sklearn.model_selection import train_test_split\n",
    "from sklearn.preprocessing import LabelEncoder\n",
    "import pandas as pd\n",
    "import numpy as np\n",
    "import matplotlib.pyplot as plt\n",
    "\n",
    "# Load the insurance dataset\n",
    "df = pd.read_csv('C:\\\\Users\\\\user\\\\Downloads\\\\insurance (1).csv')\n",
    "\n",
    "# Encode categorical variables\n",
    "le = LabelEncoder()\n",
    "df['sex'] = le.fit_transform(df['sex'])\n",
    "df['smoker'] = le.fit_transform(df['smoker'])\n",
    "df['region'] = le.fit_transform(df['region'])\n",
    "\n",
    "# Convert any encoded string variables to float datatype\n",
    "df = df.astype('float64')\n",
    "\n",
    "# Split data into training and test sets\n",
    "X = df.drop('charges', axis=1)\n",
    "y = df['charges']\n",
    "X_train, X_test, y_train, y_test = train_test_split(X, y, test_size=0.2, random_state=42)\n",
    "\n",
    "# Instantiate individual regressor models\n",
    "rf = RandomForestRegressor(n_estimators=100, max_depth=10, random_state=42)\n",
    "lr = LinearRegression()\n",
    "dt = DecisionTreeRegressor(max_depth=10, random_state=42)\n",
    "\n",
    "# Create the heterogeneous ensemble using the VotingRegressor class\n",
    "voting_clf = VotingRegressor(estimators=[('rf', rf), ('lr', lr), ('dt', dt)])\n",
    "\n",
    "# Train the heterogeneous ensemble on the training data\n",
    "voting_clf.fit(X_train, y_train)\n",
    "\n",
    "# Use the trained ensemble to make predictions on the test data\n",
    "y_pred = voting_clf.predict(X_test)\n",
    "\n",
    "\n",
    "# Evaluate the performance of the ensemble using appropriate metrics\n",
    "mse = mean_squared_error(y_test, y_pred)\n",
    "r2 = r2_score(y_test, y_pred)\n",
    "\n",
    "print(f\"Mean Squared Error: {mse}\")\n",
    "print(f\"R^2 Score: {r2}\")\n",
    "\n",
    "\n"
   ]
  },
  {
   "cell_type": "code",
   "execution_count": null,
   "id": "a7d5ebdb",
   "metadata": {},
   "outputs": [],
   "source": [
    "# In this code, we first load the insurance dataset and encode the categorical variables. We then convert any encoded string variables to float datatype and split the data into training and test sets.\n",
    "\n",
    "# Next, we instantiate a random forest regressor and a gradient boosting regressor with the desired hyperparameters. We then train the models on the training data and use them to make predictions on the test data.\n",
    "\n",
    "# We combine the predictions from the different models using a simple average, and evaluate the performance of the ensemble using the mean squared error metric."
   ]
  },
  {
   "cell_type": "code",
   "execution_count": 3,
   "id": "61a938bb",
   "metadata": {},
   "outputs": [],
   "source": [
    "# To visualize the results of the heterogeneous ensemble, we can use a scatter plot to compare the actual values of charges with the predicted values.\n",
    "# This will create a scatter plot with the actual charges on the x-axis and the predicted charges on the y-axis.\n",
    "# Each point on the plot represents a single data point from the test set.\n",
    "# The closer the points are to the line of best fit (which is the diagonal line from the bottom left to the top right), the better the performance of the heterogeneous ensemble."
   ]
  },
  {
   "cell_type": "code",
   "execution_count": 6,
   "id": "bb828600",
   "metadata": {},
   "outputs": [
    {
     "data": {
      "image/png": "[encoded data removed]",
      "text/plain": [
       "<Figure size 432x288 with 1 Axes>"
      ]
     },
     "metadata": {
      "needs_background": "light"
     },
     "output_type": "display_data"
    }
   ],
   "source": [
    "import matplotlib.pyplot as plt\n",
    "\n",
    "# Make predictions using the trained heterogeneous ensemble\n",
    "y_pred = voting_clf.predict(X_test)\n",
    "\n",
    "# Create a scatter plot to compare the actual values with the predicted values\n",
    "plt.scatter(y_test, y_pred)\n",
    "plt.xlabel('Actual Charges')\n",
    "plt.ylabel('Predicted Charges')\n",
    "plt.title('Comparison of Actual and Predicted Charges')\n",
    "plt.show()\n"
   ]
  },
  {
   "cell_type": "code",
   "execution_count": null,
   "id": "9348a79d",
   "metadata": {},
   "outputs": [],
   "source": []
  }
 ],
 "metadata": {
  "kernelspec": {
   "display_name": "Python 3 (ipykernel)",
   "language": "python",
   "name": "python3"
  },
  "language_info": {
   "codemirror_mode": {
    "name": "ipython",
    "version": 3
   },
   "file_extension": ".py",
   "mimetype": "text/x-python",
   "name": "python",
   "nbconvert_exporter": "python",
   "pygments_lexer": "ipython3",
   "version": "3.9.12"
  }
 },
 "nbformat": 4,
 "nbformat_minor": 5
}
